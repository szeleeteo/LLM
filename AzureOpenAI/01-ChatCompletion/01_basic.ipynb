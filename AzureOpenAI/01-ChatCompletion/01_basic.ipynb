{
 "cells": [
  {
   "cell_type": "markdown",
   "id": "7fac0c3b-e282-4d24-9daa-234d2332c95f",
   "metadata": {
    "tags": []
   },
   "source": [
    "# Setup"
   ]
  },
  {
   "cell_type": "code",
   "execution_count": 1,
   "id": "a12ee7d8-ddfb-4058-bd4d-07cb59dc3965",
   "metadata": {
    "tags": []
   },
   "outputs": [],
   "source": [
    "import os\n",
    "import re\n",
    "\n",
    "import openai\n",
    "from dotenv import load_dotenv"
   ]
  },
  {
   "cell_type": "code",
   "execution_count": 2,
   "id": "3d1b5797-f6bf-4b04-8d83-3988a0fe49f9",
   "metadata": {
    "tags": []
   },
   "outputs": [
    {
     "data": {
      "text/plain": [
       "True"
      ]
     },
     "execution_count": 2,
     "metadata": {},
     "output_type": "execute_result"
    }
   ],
   "source": [
    "load_dotenv()"
   ]
  },
  {
   "cell_type": "code",
   "execution_count": 3,
   "id": "8c4e4bca-9aaa-4e86-909d-e04fc2f5cc21",
   "metadata": {
    "tags": []
   },
   "outputs": [],
   "source": [
    "DEPLOYMENT_GPT35 = os.environ[\"DEPLOYMENT_MODEL_GPT35\"]\n",
    "DEPLOYMENT_GPT4 = os.environ[\"DEPLOYMENT_MODEL_GPT4\"]\n",
    "\n",
    "# switch between models here\n",
    "# DEPLOYMENT_NAME = DEPLOYMENT_GPT35\n",
    "DEPLOYMENT_NAME = DEPLOYMENT_GPT4\n",
    "\n",
    "\n",
    "if DEPLOYMENT_NAME == DEPLOYMENT_GPT35:\n",
    "    MODEL_NAME = \"gpt-3.5-turbo\"\n",
    "elif DEPLOYMENT_NAME == DEPLOYMENT_GPT4:\n",
    "    MODEL_NAME = \"gpt-4\"\n",
    "else:\n",
    "    raise ValueError(f\"Unmapped model {DEPLOYMENT_MODEL}\")\n",
    "\n",
    "\n",
    "assert os.environ[\"OPENAI_API_TYPE\"] == \"azure\"\n",
    "assert os.environ[\"OPENAI_API_KEY\"]\n",
    "assert os.environ[\"OPENAI_API_VERSION\"]\n",
    "\n",
    "\n",
    "url_pattern = r\"https://.*openai\\.azure\\.com/\"\n",
    "regex = re.compile(url_pattern)\n",
    "assert bool(regex.match(os.environ[\"OPENAI_API_BASE\"]))\n",
    "\n",
    "\n",
    "openai.api_type = os.environ[\"OPENAI_API_TYPE\"]\n",
    "openai.api_key = os.environ[\"OPENAI_API_KEY\"]\n",
    "openai.api_version = os.environ[\"OPENAI_API_VERSION\"]\n",
    "openai.api_base = os.environ[\"OPENAI_API_BASE\"]"
   ]
  },
  {
   "cell_type": "markdown",
   "id": "45b085fb-8ef6-4e90-843c-e2872cd91e85",
   "metadata": {},
   "source": [
    "# Quick Start"
   ]
  },
  {
   "cell_type": "code",
   "execution_count": 4,
   "id": "9cced4c0-8aee-492d-8b5e-5317dbf44e88",
   "metadata": {
    "tags": []
   },
   "outputs": [],
   "source": [
    "def send_message(messages):\n",
    "    try:\n",
    "        response = openai.ChatCompletion.create(\n",
    "            engine=DEPLOYMENT_NAME, messages=messages\n",
    "        )\n",
    "    except openai.error.APIError as e:\n",
    "        # Handle API error here, e.g. retry or log\n",
    "        print(f\"OpenAI API returned an API Error: {e}\")\n",
    "\n",
    "    except openai.error.AuthenticationError as e:\n",
    "        # Handle Authentication error here, e.g. invalid API key\n",
    "        print(f\"OpenAI API returned an Authentication Error: {e}\")\n",
    "\n",
    "    except openai.error.APIConnectionError as e:\n",
    "        # Handle connection error here\n",
    "        print(f\"Failed to connect to OpenAI API: {e}\")\n",
    "\n",
    "    except openai.error.InvalidRequestError as e:\n",
    "        # Handle connection error here\n",
    "        print(f\"Invalid Request Error: {e}\")\n",
    "\n",
    "    except openai.error.RateLimitError as e:\n",
    "        # Handle rate limit error\n",
    "        print(f\"OpenAI API request exceeded rate limit: {e}\")\n",
    "\n",
    "    except openai.error.ServiceUnavailableError as e:\n",
    "        # Handle Service Unavailable error\n",
    "        print(f\"Service Unavailable: {e}\")\n",
    "\n",
    "    except openai.error.Timeout as e:\n",
    "        # Handle request timeout\n",
    "        print(f\"Request timed out: {e}\")\n",
    "\n",
    "    except:\n",
    "        # Handles all other exceptions\n",
    "        print(\"An exception has occured.\")\n",
    "\n",
    "    return response"
   ]
  },
  {
   "cell_type": "code",
   "execution_count": 5,
   "id": "482f85b7-4801-4e5c-839d-a43799d2ebc4",
   "metadata": {
    "tags": []
   },
   "outputs": [],
   "source": [
    "sample_messages_1 = [\n",
    "    {\n",
    "        \"role\": \"system\",\n",
    "        \"content\": \"Assistant is a large language model trained by OpenAI.\",\n",
    "    },\n",
    "    {\n",
    "        \"role\": \"user\",\n",
    "        \"content\": \"Who were the founders of Microsoft?\",\n",
    "    },\n",
    "]"
   ]
  },
  {
   "cell_type": "code",
   "execution_count": 6,
   "id": "c6a9dabf-2adf-4d88-966a-5f65c6b255c0",
   "metadata": {
    "tags": []
   },
   "outputs": [
    {
     "name": "stdout",
     "output_type": "stream",
     "text": [
      "CPU times: user 1.03 s, sys: 95 ms, total: 1.13 s\n",
      "Wall time: 3.38 s\n"
     ]
    }
   ],
   "source": [
    "%%time\n",
    "response = send_message(sample_messages_1)"
   ]
  },
  {
   "cell_type": "code",
   "execution_count": 7,
   "id": "2bf4f33f-7a8c-442e-b320-62e7b8469201",
   "metadata": {
    "tags": []
   },
   "outputs": [
    {
     "data": {
      "text/plain": [
       "<OpenAIObject chat.completion id=chatcmpl-7BHzDqPT88wRSAAmPwfqUy0VsMYVB at 0x10cb7ae50> JSON: {\n",
       "  \"choices\": [\n",
       "    {\n",
       "      \"finish_reason\": \"stop\",\n",
       "      \"index\": 0,\n",
       "      \"message\": {\n",
       "        \"content\": \"Microsoft was founded by Bill Gates and Paul Allen on April 4, 1975. Both of them were childhood friends, and their shared love of computer programming led them to create one of the world's most successful technology companies.\",\n",
       "        \"role\": \"assistant\"\n",
       "      }\n",
       "    }\n",
       "  ],\n",
       "  \"created\": 1682925103,\n",
       "  \"id\": \"chatcmpl-7BHzDqPT88wRSAAmPwfqUy0VsMYVB\",\n",
       "  \"model\": \"gpt-4\",\n",
       "  \"object\": \"chat.completion\",\n",
       "  \"usage\": {\n",
       "    \"completion_tokens\": 47,\n",
       "    \"prompt_tokens\": 28,\n",
       "    \"total_tokens\": 75\n",
       "  }\n",
       "}"
      ]
     },
     "execution_count": 7,
     "metadata": {},
     "output_type": "execute_result"
    }
   ],
   "source": [
    "response"
   ]
  },
  {
   "cell_type": "code",
   "execution_count": 8,
   "id": "2e3326f9-b277-454b-bd89-4f5de465a6bc",
   "metadata": {
    "tags": []
   },
   "outputs": [
    {
     "data": {
      "text/plain": [
       "\"Microsoft was founded by Bill Gates and Paul Allen on April 4, 1975. Both of them were childhood friends, and their shared love of computer programming led them to create one of the world's most successful technology companies.\""
      ]
     },
     "execution_count": 8,
     "metadata": {},
     "output_type": "execute_result"
    }
   ],
   "source": [
    "response[\"choices\"][0][\"message\"][\"content\"]"
   ]
  },
  {
   "cell_type": "code",
   "execution_count": 9,
   "id": "ce746768-a68a-40c2-99f9-d3bb6a54ef55",
   "metadata": {
    "tags": []
   },
   "outputs": [],
   "source": [
    "sample_messages_2 = [\n",
    "    {\n",
    "        \"role\": \"system\",\n",
    "        \"content\": \"You are a helpful assistant.\",\n",
    "    },\n",
    "    {\n",
    "        \"role\": \"user\",\n",
    "        \"content\": \"Does Azure OpenAI support customer managed keys?\",\n",
    "    },\n",
    "    {\n",
    "        \"role\": \"assistant\",\n",
    "        \"content\": \"Yes, customer managed keys are supported by Azure OpenAI.\",\n",
    "    },\n",
    "    {\n",
    "        \"role\": \"user\",\n",
    "        \"content\": \"Do other Azure Cognitive Services support this too?\",\n",
    "    },\n",
    "]"
   ]
  },
  {
   "cell_type": "code",
   "execution_count": 10,
   "id": "bc274eb1-ecb4-4ac9-aa24-b6c3d8be7a58",
   "metadata": {
    "tags": []
   },
   "outputs": [
    {
     "name": "stdout",
     "output_type": "stream",
     "text": [
      "CPU times: user 5.72 ms, sys: 1.44 ms, total: 7.16 ms\n",
      "Wall time: 3.25 s\n"
     ]
    }
   ],
   "source": [
    "%%time\n",
    "response = send_message(sample_messages_2)"
   ]
  },
  {
   "cell_type": "code",
   "execution_count": 11,
   "id": "f609c080-9206-4095-b9f9-53340dc6eb0e",
   "metadata": {
    "tags": []
   },
   "outputs": [
    {
     "data": {
      "text/plain": [
       "<OpenAIObject chat.completion id=chatcmpl-7BHzIPx08nEDVpzS85wkCEAoTbNmq at 0x10e3b8f40> JSON: {\n",
       "  \"choices\": [\n",
       "    {\n",
       "      \"finish_reason\": \"stop\",\n",
       "      \"index\": 0,\n",
       "      \"message\": {\n",
       "        \"content\": \"Yes, customer managed keys (CMKs) are supported by various Azure Cognitive Services. Each service may have specific implementation guidelines, but customers can use Azure Key Vault for managing and controlling their encryption keys to protect sensitive data within Azure Cognitive Services. Some of the services that commonly support CMKs include Azure Text Analytics, Azure Translator, and Azure Speech Services. Always check the specific documentation for each service to ensure compatibility and implementation details.\",\n",
       "        \"role\": \"assistant\"\n",
       "      }\n",
       "    }\n",
       "  ],\n",
       "  \"created\": 1682925108,\n",
       "  \"id\": \"chatcmpl-7BHzIPx08nEDVpzS85wkCEAoTbNmq\",\n",
       "  \"model\": \"gpt-4\",\n",
       "  \"object\": \"chat.completion\",\n",
       "  \"usage\": {\n",
       "    \"completion_tokens\": 88,\n",
       "    \"prompt_tokens\": 54,\n",
       "    \"total_tokens\": 142\n",
       "  }\n",
       "}"
      ]
     },
     "execution_count": 11,
     "metadata": {},
     "output_type": "execute_result"
    }
   ],
   "source": [
    "response"
   ]
  },
  {
   "cell_type": "code",
   "execution_count": 12,
   "id": "60c236b1-97f5-4fb3-9bfe-3c44545a2d91",
   "metadata": {
    "tags": []
   },
   "outputs": [
    {
     "data": {
      "text/plain": [
       "'Yes, customer managed keys (CMKs) are supported by various Azure Cognitive Services. Each service may have specific implementation guidelines, but customers can use Azure Key Vault for managing and controlling their encryption keys to protect sensitive data within Azure Cognitive Services. Some of the services that commonly support CMKs include Azure Text Analytics, Azure Translator, and Azure Speech Services. Always check the specific documentation for each service to ensure compatibility and implementation details.'"
      ]
     },
     "execution_count": 12,
     "metadata": {},
     "output_type": "execute_result"
    }
   ],
   "source": [
    "response[\"choices\"][0][\"message\"][\"content\"]"
   ]
  }
 ],
 "metadata": {
  "kernelspec": {
   "display_name": "Python 3 (ipykernel)",
   "language": "python",
   "name": "python3"
  },
  "language_info": {
   "codemirror_mode": {
    "name": "ipython",
    "version": 3
   },
   "file_extension": ".py",
   "mimetype": "text/x-python",
   "name": "python",
   "nbconvert_exporter": "python",
   "pygments_lexer": "ipython3",
   "version": "3.8.16"
  }
 },
 "nbformat": 4,
 "nbformat_minor": 5
}
