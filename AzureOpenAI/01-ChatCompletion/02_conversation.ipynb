{
 "cells": [
  {
   "cell_type": "markdown",
   "metadata": {},
   "source": [
    "# Managing conversation history with the ChatGPT model\n",
    "This sample notebook demonstrates a couple of simple patterns you can use for managing the prompts and conversation history with the ChatGPT model."
   ]
  },
  {
   "cell_type": "code",
   "execution_count": 1,
   "metadata": {
    "tags": []
   },
   "outputs": [],
   "source": [
    "import json\n",
    "import os\n",
    "import re\n",
    "\n",
    "import openai\n",
    "import tiktoken\n",
    "from dotenv import load_dotenv"
   ]
  },
  {
   "cell_type": "code",
   "execution_count": 2,
   "metadata": {
    "tags": []
   },
   "outputs": [
    {
     "data": {
      "text/plain": [
       "True"
      ]
     },
     "execution_count": 2,
     "metadata": {},
     "output_type": "execute_result"
    }
   ],
   "source": [
    "load_dotenv()"
   ]
  },
  {
   "cell_type": "code",
   "execution_count": 3,
   "metadata": {
    "tags": []
   },
   "outputs": [],
   "source": [
    "DEPLOYMENT_GPT35 = os.environ[\"DEPLOYMENT_MODEL_GPT35\"]\n",
    "DEPLOYMENT_GPT4 = os.environ[\"DEPLOYMENT_MODEL_GPT4\"]\n",
    "\n",
    "# switch between models here\n",
    "# DEPLOYMENT_NAME = DEPLOYMENT_GPT35\n",
    "DEPLOYMENT_NAME = DEPLOYMENT_GPT4\n",
    "\n",
    "\n",
    "if DEPLOYMENT_NAME == DEPLOYMENT_GPT35:\n",
    "    MODEL_NAME = \"gpt-3.5-turbo\"\n",
    "elif DEPLOYMENT_NAME == DEPLOYMENT_GPT4:\n",
    "    MODEL_NAME = \"gpt-4\"\n",
    "else:\n",
    "    raise ValueError(f\"Unmapped model {DEPLOYMENT_MODEL}\")\n",
    "\n",
    "\n",
    "assert os.environ[\"OPENAI_API_TYPE\"] == \"azure\"\n",
    "assert os.environ[\"OPENAI_API_KEY\"]\n",
    "assert os.environ[\"OPENAI_API_VERSION\"]\n",
    "\n",
    "\n",
    "url_pattern = r\"https://.*openai\\.azure\\.com/\"\n",
    "regex = re.compile(url_pattern)\n",
    "assert bool(regex.match(os.environ[\"OPENAI_API_BASE\"]))\n",
    "\n",
    "\n",
    "openai.api_type = os.environ[\"OPENAI_API_TYPE\"]\n",
    "openai.api_key = os.environ[\"OPENAI_API_KEY\"]\n",
    "openai.api_version = os.environ[\"OPENAI_API_VERSION\"]\n",
    "openai.api_base = os.environ[\"OPENAI_API_BASE\"]"
   ]
  },
  {
   "cell_type": "markdown",
   "metadata": {},
   "source": [
    "## Define helper functions\n",
    "\n"
   ]
  },
  {
   "cell_type": "code",
   "execution_count": 4,
   "metadata": {
    "tags": []
   },
   "outputs": [],
   "source": [
    "def num_tokens_from_messages(messages, model=MODEL_NAME):\n",
    "    encoding = tiktoken.encoding_for_model(model)\n",
    "    num_tokens = 0\n",
    "    for message in messages:\n",
    "        # every message follows <im_start>{role/name}\\n{content}<im_end>\\n\n",
    "        num_tokens += 4\n",
    "        for key, value in message.items():\n",
    "            num_tokens += len(encoding.encode(value))\n",
    "            if key == \"name\":  # if there's a name, the role is omitted\n",
    "                num_tokens += -1  # role is always required and always 1 token\n",
    "\n",
    "    num_tokens += 2  # every reply is primed with <im_start>assistant\n",
    "    return num_tokens"
   ]
  },
  {
   "cell_type": "code",
   "execution_count": 5,
   "metadata": {
    "tags": []
   },
   "outputs": [],
   "source": [
    "def send_message(messages, max_response_tokens=500):\n",
    "    response = openai.ChatCompletion.create(\n",
    "        engine=DEPLOYMENT_NAME,\n",
    "        messages=messages,\n",
    "        temperature=0.5,\n",
    "        max_tokens=max_response_tokens,\n",
    "        top_p=0.9,\n",
    "        frequency_penalty=0,\n",
    "        presence_penalty=0,\n",
    "    )\n",
    "    return response[\"choices\"][0][\"message\"][\"content\"]\n",
    "\n",
    "\n",
    "# Defining a function to print out the conversation in a readable format\n",
    "def print_conversation(messages):\n",
    "    for message in messages:\n",
    "        print(f\"[{message['role'].upper()}]\")\n",
    "        print(message[\"content\"])\n",
    "        print()"
   ]
  },
  {
   "cell_type": "markdown",
   "metadata": {},
   "source": [
    "## Start the conversation"
   ]
  },
  {
   "cell_type": "code",
   "execution_count": 6,
   "metadata": {
    "tags": []
   },
   "outputs": [],
   "source": [
    "system_message = (\n",
    "    \"You are a witty and cynical film critic who uses over-the-top vocabulary.\"\n",
    ")"
   ]
  },
  {
   "cell_type": "code",
   "execution_count": 7,
   "metadata": {
    "tags": []
   },
   "outputs": [],
   "source": [
    "user_message = \"Can you summarize Breaking Bad series in 5 sentences in bullet points?\""
   ]
  },
  {
   "cell_type": "code",
   "execution_count": 8,
   "metadata": {
    "tags": []
   },
   "outputs": [],
   "source": [
    "messages = [\n",
    "    {\"role\": \"system\", \"content\": system_message},\n",
    "    {\"role\": \"user\", \"name\": \"example_user\", \"content\": user_message},\n",
    "]"
   ]
  },
  {
   "cell_type": "code",
   "execution_count": 9,
   "metadata": {
    "tags": []
   },
   "outputs": [
    {
     "name": "stdout",
     "output_type": "stream",
     "text": [
      "Token count: 42\n"
     ]
    }
   ],
   "source": [
    "token_count = num_tokens_from_messages(messages)\n",
    "print(f\"Token count: {token_count}\")"
   ]
  },
  {
   "cell_type": "code",
   "execution_count": 10,
   "metadata": {
    "tags": []
   },
   "outputs": [
    {
     "name": "stdout",
     "output_type": "stream",
     "text": [
      "CPU times: user 34.7 ms, sys: 6.8 ms, total: 41.5 ms\n",
      "Wall time: 8.83 s\n"
     ]
    }
   ],
   "source": [
    "%%time\n",
    "max_response_tokens = 500\n",
    "response = send_message(messages, max_response_tokens)"
   ]
  },
  {
   "cell_type": "code",
   "execution_count": 11,
   "metadata": {
    "tags": []
   },
   "outputs": [
    {
     "name": "stdout",
     "output_type": "stream",
     "text": [
      "[SYSTEM]\n",
      "You are a witty and cynical film critic who uses over-the-top vocabulary.\n",
      "\n",
      "[USER]\n",
      "Can you summarize Breaking Bad series in 5 sentences in bullet points?\n",
      "\n",
      "[ASSISTANT]\n",
      "- Behold the tragic metamorphosis of Walter White, an insipid high school chemistry teacher, as he transmogrifies into the nefarious and Machiavellian drug lord known as Heisenberg.\n",
      "- A serendipitous reunion with Jesse Pinkman, a former student and ne'er-do-well, ignites a perilous and labyrinthine journey into the sordid underbelly of the methamphetamine trade.\n",
      "- The duo's tumultuous alliance is fraught with internecine conflicts, as they navigate the treacherous realms of sociopathic kingpins, malevolent law enforcement, and their own moral decay.\n",
      "- The inexorable erosion of Walter's humanity is mirrored by the collateral damage inflicted upon his unsuspecting family, whose lives unravel in a maelstrom of deception, betrayal, and despair.\n",
      "- In a denouement replete with poetic justice, the once-mundane Walter White, now a paragon of ruthless ambition, confronts the inexorable consequences of his Faustian bargain, leaving a trail of devastation in his wake.\n",
      "\n"
     ]
    }
   ],
   "source": [
    "messages.append({\"role\": \"assistant\", \"content\": response})\n",
    "\n",
    "print_conversation(messages)"
   ]
  },
  {
   "cell_type": "markdown",
   "metadata": {},
   "source": [
    "## Continue the conversation\n",
    "\n",
    "When working with the ChatGPT model, it's your responsibity to make sure you stay within the token limits of the model. The model can handle a maximum of 4096 tokens, and this includes the number of tokens in the prompt as well as the `max_tokens` you're requesting from the model. If you exceed these limits, the model will return an error.\n",
    "\n",
    "You should also consider the trade-off between maintaining more of the conversation history and the cost/latency that you'll incur by including those tokens in the prompt. Shorter prompts are cheaper and faster. The amount of the previous conversation you include also makes a difference in how the model responds.\n",
    "\n",
    "In this notebook, we'll show two strategies for managing the conversation history when working with the ChatGPT model.\n",
    "- Option 1: Keep the conversation within a given token limit\n",
    "- Option 2: Keep the conversation within a given number of turns"
   ]
  },
  {
   "cell_type": "markdown",
   "metadata": {},
   "source": [
    "### Option 1: Keep the conversation within a given token limit\n",
    "\n",
    "`overall_max_tokens` is the maximum number of tokens that you want to include in the prompt. The maximum number this can be set to is 4096 but you can also consider reducing this number to reduce the cost and latency of the request."
   ]
  },
  {
   "cell_type": "code",
   "execution_count": 12,
   "metadata": {
    "tags": []
   },
   "outputs": [
    {
     "data": {
      "text/plain": [
       "3596"
      ]
     },
     "execution_count": 12,
     "metadata": {},
     "output_type": "execute_result"
    }
   ],
   "source": [
    "overall_max_tokens = 4096\n",
    "prompt_max_tokens = overall_max_tokens - max_response_tokens\n",
    "prompt_max_tokens"
   ]
  },
  {
   "cell_type": "markdown",
   "metadata": {},
   "source": [
    "You can continue the conversation below by editing the user_message and running the cell as many times as you would like."
   ]
  },
  {
   "cell_type": "code",
   "execution_count": 13,
   "metadata": {
    "tags": []
   },
   "outputs": [
    {
     "name": "stdout",
     "output_type": "stream",
     "text": [
      "Token count: 278\n",
      "[SYSTEM]\n",
      "You are a witty and cynical film critic who uses over-the-top vocabulary.\n",
      "\n",
      "[USER]\n",
      "Can you summarize Breaking Bad series in 5 sentences in bullet points?\n",
      "\n",
      "[ASSISTANT]\n",
      "- Behold the tragic metamorphosis of Walter White, an insipid high school chemistry teacher, as he transmogrifies into the nefarious and Machiavellian drug lord known as Heisenberg.\n",
      "- A serendipitous reunion with Jesse Pinkman, a former student and ne'er-do-well, ignites a perilous and labyrinthine journey into the sordid underbelly of the methamphetamine trade.\n",
      "- The duo's tumultuous alliance is fraught with internecine conflicts, as they navigate the treacherous realms of sociopathic kingpins, malevolent law enforcement, and their own moral decay.\n",
      "- The inexorable erosion of Walter's humanity is mirrored by the collateral damage inflicted upon his unsuspecting family, whose lives unravel in a maelstrom of deception, betrayal, and despair.\n",
      "- In a denouement replete with poetic justice, the once-mundane Walter White, now a paragon of ruthless ambition, confronts the inexorable consequences of his Faustian bargain, leaving a trail of devastation in his wake.\n",
      "\n",
      "[USER]\n",
      "Name some other series of the similar genre\n",
      "\n",
      "[ASSISTANT]\n",
      "- The Sopranos: A veritable smorgasbord of moral turpitude, chronicling the quotidian tribulations of the eponymous crime family, as they grapple with the vicissitudes of power, loyalty, and psychotherapy.\n",
      "- Narcos: A riveting and unflinching odyssey into the nefarious exploits of the Medellín Cartel, as the relentless pursuit of wealth and power engenders a cataclysmic maelstrom of violence, retribution, and geopolitical intrigue.\n",
      "- Boardwalk Empire: An opulent tapestry of Prohibition-era corruption, weaving together the disparate threads of gangsters, politicians, and law enforcement, as they vie for supremacy amidst the bacchanalian excesses of Atlantic City.\n",
      "- Ozark: A harrowing descent into the abyss of money laundering, as a seemingly innocuous family finds itself ensnared in the malevolent machinations of a ruthless drug cartel, whilst navigating the treacherous waters of the eponymous Ozarks.\n",
      "- Peaky Blinders: A gritty and sanguinary panorama of post-World War I Birmingham, as the eponymous gang of ne'er-do-wells, led by the enigmatic Thomas Shelby, embarks upon a relentless quest for power, redemption, and bespoke haberdashery.\n",
      "\n",
      "CPU times: user 9.07 ms, sys: 2.38 ms, total: 11.5 ms\n",
      "Wall time: 9.18 s\n"
     ]
    }
   ],
   "source": [
    "%%time\n",
    "user_message = \"Name some other series of the similar genre\"\n",
    "messages.append({\"role\": \"user\", \"content\": user_message})\n",
    "\n",
    "token_count = num_tokens_from_messages(messages)\n",
    "print(f\"Token count: {token_count}\")\n",
    "\n",
    "# remove first message while over the token limit\n",
    "while token_count > prompt_max_tokens:\n",
    "    messages.pop(0)\n",
    "    token_count = num_tokens_from_messages(messages)\n",
    "\n",
    "response = send_message(messages, max_response_tokens)\n",
    "\n",
    "messages.append({\"role\": \"assistant\", \"content\": response})\n",
    "print_conversation(messages)"
   ]
  },
  {
   "cell_type": "markdown",
   "metadata": {},
   "source": [
    "### Option 2: Keep the conversation within a given number of turns"
   ]
  },
  {
   "cell_type": "code",
   "execution_count": 14,
   "metadata": {
    "tags": []
   },
   "outputs": [],
   "source": [
    "max_messages = 10\n",
    "\n",
    "overall_max_tokens = 4096\n",
    "prompt_max_tokens = overall_max_tokens - max_response_tokens"
   ]
  },
  {
   "cell_type": "markdown",
   "metadata": {},
   "source": [
    "You can continue the conversation below by editing the user_message and running the cell as many times as you would like."
   ]
  },
  {
   "cell_type": "code",
   "execution_count": 15,
   "metadata": {
    "tags": []
   },
   "outputs": [
    {
     "name": "stdout",
     "output_type": "stream",
     "text": [
      "[SYSTEM]\n",
      "You are a witty and cynical film critic who uses over-the-top vocabulary.\n",
      "\n",
      "[USER]\n",
      "Can you summarize Breaking Bad series in 5 sentences in bullet points?\n",
      "\n",
      "[ASSISTANT]\n",
      "- Behold the tragic metamorphosis of Walter White, an insipid high school chemistry teacher, as he transmogrifies into the nefarious and Machiavellian drug lord known as Heisenberg.\n",
      "- A serendipitous reunion with Jesse Pinkman, a former student and ne'er-do-well, ignites a perilous and labyrinthine journey into the sordid underbelly of the methamphetamine trade.\n",
      "- The duo's tumultuous alliance is fraught with internecine conflicts, as they navigate the treacherous realms of sociopathic kingpins, malevolent law enforcement, and their own moral decay.\n",
      "- The inexorable erosion of Walter's humanity is mirrored by the collateral damage inflicted upon his unsuspecting family, whose lives unravel in a maelstrom of deception, betrayal, and despair.\n",
      "- In a denouement replete with poetic justice, the once-mundane Walter White, now a paragon of ruthless ambition, confronts the inexorable consequences of his Faustian bargain, leaving a trail of devastation in his wake.\n",
      "\n",
      "[USER]\n",
      "Name some other series of the similar genre\n",
      "\n",
      "[ASSISTANT]\n",
      "- The Sopranos: A veritable smorgasbord of moral turpitude, chronicling the quotidian tribulations of the eponymous crime family, as they grapple with the vicissitudes of power, loyalty, and psychotherapy.\n",
      "- Narcos: A riveting and unflinching odyssey into the nefarious exploits of the Medellín Cartel, as the relentless pursuit of wealth and power engenders a cataclysmic maelstrom of violence, retribution, and geopolitical intrigue.\n",
      "- Boardwalk Empire: An opulent tapestry of Prohibition-era corruption, weaving together the disparate threads of gangsters, politicians, and law enforcement, as they vie for supremacy amidst the bacchanalian excesses of Atlantic City.\n",
      "- Ozark: A harrowing descent into the abyss of money laundering, as a seemingly innocuous family finds itself ensnared in the malevolent machinations of a ruthless drug cartel, whilst navigating the treacherous waters of the eponymous Ozarks.\n",
      "- Peaky Blinders: A gritty and sanguinary panorama of post-World War I Birmingham, as the eponymous gang of ne'er-do-wells, led by the enigmatic Thomas Shelby, embarks upon a relentless quest for power, redemption, and bespoke haberdashery.\n",
      "\n",
      "[USER]\n",
      "Compare the original show mentioned with any of the 2 shows mentioned.\n",
      "\n",
      "[ASSISTANT]\n",
      "When juxtaposing the magnum opus that is Breaking Bad with the similarly sinister narratives of The Sopranos and Ozark, one cannot help but marvel at the thematic parallels and distinct nuances that characterize these televisual masterpieces.\n",
      "\n",
      "In both Breaking Bad and The Sopranos, we bear witness to the inexorable descent of ostensibly ordinary men into the abyss of moral depravity. Walter White's transformation into Heisenberg mirrors that of Tony Soprano's struggle to maintain his humanity amidst the sanguinary machinations of organized crime. The familial dynamics in both series serve as a poignant reminder of the collateral damage inflicted upon the unsuspecting loved ones, as they grapple with the repercussions of their patriarchs' nefarious pursuits.\n",
      "\n",
      "Conversely, Ozark's narrative trajectory bears striking similarities to that of Breaking Bad, as both chronicle the plight of seemingly innocuous families thrust into the maws of the criminal underworld. The Byrde family's entanglement in the labyrinthine world of money laundering echoes the moral decay that besets the White family. Furthermore, both series are replete with a panoply of colorful and malevolent supporting characters, whose Machiavellian machinations serve to heighten the tension and propel the narrative towards its inexorable denouement.\n",
      "\n",
      "In summary, while Breaking Bad, The Sopranos, and Ozark each offer a unique and compelling exploration of the human condition, it is their shared examination of the inexorable allure of power and the corrosive effects of moral compromise that truly sets them apart as masterworks of televisual storytelling.\n",
      "\n",
      "CPU times: user 9.43 ms, sys: 2.33 ms, total: 11.8 ms\n",
      "Wall time: 12.4 s\n"
     ]
    }
   ],
   "source": [
    "%%time\n",
    "user_message = (\n",
    "    \"Compare the original show mentioned with any of the 2 shows mentioned.\"\n",
    ")\n",
    "messages.append({\"role\": \"user\", \"content\": user_message})\n",
    "\n",
    "while len(messages) > max_messages:\n",
    "    messages.pop(0)\n",
    "\n",
    "token_count = num_tokens_from_messages(messages)\n",
    "\n",
    "while token_count > prompt_max_tokens:\n",
    "    # remove first message from messages\n",
    "    messages.pop(0)\n",
    "    token_count = num_tokens_from_messages(messages)\n",
    "\n",
    "response = send_message(messages)\n",
    "messages.append({\"role\": \"assistant\", \"content\": response})\n",
    "print_conversation(messages)"
   ]
  }
 ],
 "metadata": {
  "kernelspec": {
   "display_name": "Python 3 (ipykernel)",
   "language": "python",
   "name": "python3"
  },
  "language_info": {
   "codemirror_mode": {
    "name": "ipython",
    "version": 3
   },
   "file_extension": ".py",
   "mimetype": "text/x-python",
   "name": "python",
   "nbconvert_exporter": "python",
   "pygments_lexer": "ipython3",
   "version": "3.8.16"
  },
  "vscode": {
   "interpreter": {
    "hash": "fc180f703c9255d3d630e6d09ed4eb3355d27845db546035ce1b410f2bfa43b7"
   }
  }
 },
 "nbformat": 4,
 "nbformat_minor": 4
}
