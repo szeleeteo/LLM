{
 "cells": [
  {
   "cell_type": "code",
   "execution_count": 1,
   "id": "6e0bfd1e-835f-4dad-94b6-7e3ad7f2c636",
   "metadata": {
    "tags": []
   },
   "outputs": [],
   "source": [
    "import os\n",
    "import re\n",
    "\n",
    "import openai\n",
    "from dotenv import load_dotenv"
   ]
  },
  {
   "cell_type": "code",
   "execution_count": 2,
   "id": "43be4839-cd3a-4671-9a4d-6f509c91621a",
   "metadata": {
    "tags": []
   },
   "outputs": [
    {
     "data": {
      "text/plain": [
       "True"
      ]
     },
     "execution_count": 2,
     "metadata": {},
     "output_type": "execute_result"
    }
   ],
   "source": [
    "load_dotenv()"
   ]
  },
  {
   "cell_type": "code",
   "execution_count": 3,
   "id": "8f8b395f-4bd4-4efd-8e7b-47a55d779a23",
   "metadata": {
    "tags": []
   },
   "outputs": [],
   "source": [
    "DEPLOYMENT_NAME = os.environ[\"DEPLOYMENT_MODEL_EMBEDDING\"]\n",
    "EMBEDDING_MODEL = \"text-embedding-ada-002\"\n",
    "\n",
    "assert os.environ[\"OPENAI_API_TYPE\"] == \"azure\"\n",
    "assert os.environ[\"OPENAI_API_KEY\"]\n",
    "assert os.environ[\"OPENAI_API_VERSION\"]\n",
    "\n",
    "url_pattern = r\"https://.*openai\\.azure\\.com/\"\n",
    "regex = re.compile(url_pattern)\n",
    "assert bool(regex.match(os.environ[\"OPENAI_API_BASE\"]))\n",
    "\n",
    "openai.api_type = os.environ[\"OPENAI_API_TYPE\"]\n",
    "openai.api_key = os.environ[\"OPENAI_API_KEY\"]\n",
    "openai.api_version = os.environ[\"OPENAI_API_VERSION\"]\n",
    "openai.api_base = os.environ[\"OPENAI_API_BASE\"]"
   ]
  },
  {
   "cell_type": "code",
   "execution_count": 4,
   "id": "370fd0fd",
   "metadata": {
    "tags": []
   },
   "outputs": [],
   "source": [
    "try:\n",
    "    # Get embeddings\n",
    "    embeddings = openai.Embedding.create(\n",
    "        engine=DEPLOYMENT_NAME,\n",
    "        input=\"The food was delicious and the waiter...\",\n",
    "    )[\"data\"][0][\"embedding\"]\n",
    "\n",
    "except openai.error.APIError as e:\n",
    "    # Handle API error here, e.g. retry or log\n",
    "    print(f\"OpenAI API returned an API Error: {e}\")\n",
    "\n",
    "except openai.error.AuthenticationError as e:\n",
    "    # Handle Authentication error here, e.g. invalid API key\n",
    "    print(f\"OpenAI API returned an Authentication Error: {e}\")\n",
    "\n",
    "except openai.error.APIConnectionError as e:\n",
    "    # Handle connection error here\n",
    "    print(f\"Failed to connect to OpenAI API: {e}\")\n",
    "\n",
    "except openai.error.InvalidRequestError as e:\n",
    "    # Handle connection error here\n",
    "    print(f\"Invalid Request Error: {e}\")\n",
    "\n",
    "except openai.error.RateLimitError as e:\n",
    "    # Handle rate limit error\n",
    "    print(f\"OpenAI API request exceeded rate limit: {e}\")\n",
    "\n",
    "except openai.error.ServiceUnavailableError as e:\n",
    "    # Handle Service Unavailable error\n",
    "    print(f\"Service Unavailable: {e}\")\n",
    "\n",
    "except openai.error.Timeout as e:\n",
    "    # Handle request timeout\n",
    "    print(f\"Request timed out: {e}\")"
   ]
  },
  {
   "cell_type": "code",
   "execution_count": 5,
   "id": "8892554e-931b-4f4f-b09c-305c2a8014a4",
   "metadata": {
    "tags": []
   },
   "outputs": [
    {
     "name": "stdout",
     "output_type": "stream",
     "text": [
      "1536\n"
     ]
    }
   ],
   "source": [
    "print(len(embeddings))"
   ]
  },
  {
   "cell_type": "code",
   "execution_count": 6,
   "id": "0c002b2b-398f-4432-8230-c6c1b9faa861",
   "metadata": {
    "tags": []
   },
   "outputs": [
    {
     "name": "stdout",
     "output_type": "stream",
     "text": [
      "[-0.021214839071035385, -0.006876592990010977, -0.017789261415600777, -0.04175134748220444, 0.001721267937682569, -0.022232338786125183, 0.019400300458073616, 0.0380883552134037, -0.0007700130809098482, -0.012676333077251911, -0.021096132695674896, 0.0023317669983953238, 0.012905270792543888, -0.016127347946166992, 0.004701690282672644, 0.014473913237452507, 0.006194021087139845, 0.007809299509972334, -0.012303250841796398, 0.01172666810452938]\n"
     ]
    }
   ],
   "source": [
    "print(embeddings[:20])"
   ]
  },
  {
   "cell_type": "code",
   "execution_count": null,
   "id": "16755c7a-ad23-4ff5-ac5e-c33fb4b333ad",
   "metadata": {},
   "outputs": [],
   "source": []
  }
 ],
 "metadata": {
  "kernelspec": {
   "display_name": "Python 3 (ipykernel)",
   "language": "python",
   "name": "python3"
  },
  "language_info": {
   "codemirror_mode": {
    "name": "ipython",
    "version": 3
   },
   "file_extension": ".py",
   "mimetype": "text/x-python",
   "name": "python",
   "nbconvert_exporter": "python",
   "pygments_lexer": "ipython3",
   "version": "3.8.16"
  }
 },
 "nbformat": 4,
 "nbformat_minor": 5
}
