{
 "cells": [
  {
   "cell_type": "markdown",
   "id": "5472628f-8364-42ba-944a-fe41eb8294b5",
   "metadata": {},
   "source": [
    "# Setup"
   ]
  },
  {
   "cell_type": "code",
   "execution_count": 1,
   "id": "04fdc93d-85f2-4d47-a821-96a285798edb",
   "metadata": {
    "tags": []
   },
   "outputs": [],
   "source": [
    "import os\n",
    "import re\n",
    "\n",
    "import langchain\n",
    "from dotenv import find_dotenv, load_dotenv\n",
    "from langchain.chat_models import AzureChatOpenAI\n",
    "from langchain.embeddings import OpenAIEmbeddings\n",
    "\n",
    "import openai"
   ]
  },
  {
   "cell_type": "code",
   "execution_count": 2,
   "id": "a383ae2a-a20b-4654-923e-f3d701a8528a",
   "metadata": {
    "tags": []
   },
   "outputs": [
    {
     "data": {
      "text/plain": [
       "'0.0.153'"
      ]
     },
     "execution_count": 2,
     "metadata": {},
     "output_type": "execute_result"
    }
   ],
   "source": [
    "langchain.__version__"
   ]
  },
  {
   "cell_type": "code",
   "execution_count": 3,
   "id": "21c65044-2d87-4741-aa08-64bc132f2015",
   "metadata": {
    "tags": []
   },
   "outputs": [
    {
     "data": {
      "text/plain": [
       "True"
      ]
     },
     "execution_count": 3,
     "metadata": {},
     "output_type": "execute_result"
    }
   ],
   "source": [
    "load_dotenv(find_dotenv())"
   ]
  },
  {
   "cell_type": "code",
   "execution_count": 4,
   "id": "6cd4816a-64a5-4a26-872a-a2eaa37dda34",
   "metadata": {
    "tags": []
   },
   "outputs": [],
   "source": [
    "DEPLOYMENT_GPT35 = os.environ[\"DEPLOYMENT_MODEL_GPT35\"]\n",
    "DEPLOYMENT_GPT4 = os.environ[\"DEPLOYMENT_MODEL_GPT4\"]\n",
    "EMBEDDING_MODEL = \"text-embedding-ada-002\"\n",
    "\n",
    "# switch between models here\n",
    "DEPLOYMENT_NAME = DEPLOYMENT_GPT35\n",
    "\n",
    "if DEPLOYMENT_NAME == DEPLOYMENT_GPT35:\n",
    "    MODEL_NAME = \"gpt-3.5-turbo\"\n",
    "elif DEPLOYMENT_NAME == DEPLOYMENT_GPT4:\n",
    "    MODEL_NAME = \"gpt-4\"\n",
    "else:\n",
    "    raise ValueError(f\"Unmapped model {DEPLOYMENT_MODEL}\")"
   ]
  },
  {
   "cell_type": "code",
   "execution_count": 5,
   "id": "b755f0af-0939-4616-ad37-22caa00af1bd",
   "metadata": {},
   "outputs": [],
   "source": [
    "assert os.environ[\"OPENAI_API_TYPE\"] == \"azure\"\n",
    "assert os.environ[\"OPENAI_API_KEY\"]\n",
    "assert os.environ[\"OPENAI_API_VERSION\"]\n",
    "\n",
    "url_pattern = r\"https://.*openai\\.azure\\.com/\"\n",
    "regex = re.compile(url_pattern)\n",
    "assert bool(regex.match(os.environ[\"OPENAI_API_BASE\"]))"
   ]
  },
  {
   "cell_type": "code",
   "execution_count": 6,
   "id": "dc4c48c3-da3b-48f2-a0af-2c94626b17d9",
   "metadata": {
    "tags": []
   },
   "outputs": [],
   "source": [
    "# for chat, there is no need to set to openai's attribute, instead we pass the dict to AzureChatOpenAI\n",
    "AD_CREDENTIALS = {\n",
    "    \"deployment_name\": DEPLOYMENT_NAME,\n",
    "    \"openai_api_type\": os.environ[\"OPENAI_API_TYPE\"],\n",
    "    \"openai_api_key\": os.environ[\"OPENAI_API_KEY\"],\n",
    "    \"openai_api_base\": os.environ[\"OPENAI_API_BASE\"],\n",
    "    \"openai_api_version\": os.environ[\"OPENAI_API_VERSION\"],\n",
    "}"
   ]
  },
  {
   "cell_type": "code",
   "execution_count": 7,
   "id": "19d3b9aa-3373-4f74-9a05-e5587b97df48",
   "metadata": {
    "tags": []
   },
   "outputs": [],
   "source": [
    "# for embeddings, we need to set to openai attributes\n",
    "openai.api_type = os.environ[\"OPENAI_API_TYPE\"]\n",
    "openai.api_key = os.environ[\"OPENAI_API_KEY\"]\n",
    "openai.api_version = os.environ[\"OPENAI_API_VERSION\"]\n",
    "openai.api_base = os.environ[\"OPENAI_API_BASE\"]"
   ]
  },
  {
   "cell_type": "markdown",
   "id": "927361cd-4d3e-48c4-ac75-5f39e137a163",
   "metadata": {},
   "source": [
    "# Create Chat and Embeddings"
   ]
  },
  {
   "cell_type": "code",
   "execution_count": 8,
   "id": "8a51f96e-8580-42c1-be67-9e42f6bfaf04",
   "metadata": {
    "tags": []
   },
   "outputs": [],
   "source": [
    "chat = AzureChatOpenAI(**AD_CREDENTIALS)"
   ]
  },
  {
   "cell_type": "code",
   "execution_count": 9,
   "id": "ecfda289-a7ce-4418-a269-728486de3b9f",
   "metadata": {
    "tags": []
   },
   "outputs": [],
   "source": [
    "embeddings = OpenAIEmbeddings(model=EMBEDDING_MODEL, chunk_size=1)"
   ]
  },
  {
   "cell_type": "code",
   "execution_count": null,
   "id": "d107a399-d04f-4c9b-83e8-59130e29d5a9",
   "metadata": {},
   "outputs": [],
   "source": []
  }
 ],
 "metadata": {
  "kernelspec": {
   "display_name": "Python 3 (ipykernel)",
   "language": "python",
   "name": "python3"
  },
  "language_info": {
   "codemirror_mode": {
    "name": "ipython",
    "version": 3
   },
   "file_extension": ".py",
   "mimetype": "text/x-python",
   "name": "python",
   "nbconvert_exporter": "python",
   "pygments_lexer": "ipython3",
   "version": "3.8.16"
  }
 },
 "nbformat": 4,
 "nbformat_minor": 5
}
