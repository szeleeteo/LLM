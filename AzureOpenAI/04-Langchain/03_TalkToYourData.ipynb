{
 "cells": [
  {
   "cell_type": "markdown",
   "id": "ee3c4e33-55b1-4894-a8b9-491848eae747",
   "metadata": {},
   "source": [
    "Reference: https://clemenssiebler.com/posts/chatting-private-data-langchain-azure-openai-service/"
   ]
  },
  {
   "cell_type": "markdown",
   "id": "5472628f-8364-42ba-944a-fe41eb8294b5",
   "metadata": {
    "tags": []
   },
   "source": [
    "# Setup"
   ]
  },
  {
   "cell_type": "code",
   "execution_count": 1,
   "id": "04fdc93d-85f2-4d47-a821-96a285798edb",
   "metadata": {
    "tags": []
   },
   "outputs": [],
   "source": [
    "import os\n",
    "import re\n",
    "\n",
    "import langchain\n",
    "import openai\n",
    "from dotenv import load_dotenv\n",
    "from langchain.chains import ConversationalRetrievalChain\n",
    "from langchain.chat_models import AzureChatOpenAI\n",
    "from langchain.document_loaders import DirectoryLoader, TextLoader\n",
    "from langchain.embeddings import OpenAIEmbeddings\n",
    "from langchain.prompts import PromptTemplate\n",
    "from langchain.text_splitter import TokenTextSplitter\n",
    "from langchain.vectorstores import FAISS"
   ]
  },
  {
   "cell_type": "code",
   "execution_count": 2,
   "id": "a383ae2a-a20b-4654-923e-f3d701a8528a",
   "metadata": {
    "tags": []
   },
   "outputs": [
    {
     "data": {
      "text/plain": [
       "'0.0.154'"
      ]
     },
     "execution_count": 2,
     "metadata": {},
     "output_type": "execute_result"
    }
   ],
   "source": [
    "langchain.__version__"
   ]
  },
  {
   "cell_type": "code",
   "execution_count": 3,
   "id": "21c65044-2d87-4741-aa08-64bc132f2015",
   "metadata": {
    "tags": []
   },
   "outputs": [
    {
     "data": {
      "text/plain": [
       "True"
      ]
     },
     "execution_count": 3,
     "metadata": {},
     "output_type": "execute_result"
    }
   ],
   "source": [
    "load_dotenv()"
   ]
  },
  {
   "cell_type": "code",
   "execution_count": 4,
   "id": "6cd4816a-64a5-4a26-872a-a2eaa37dda34",
   "metadata": {
    "tags": []
   },
   "outputs": [],
   "source": [
    "DEPLOYMENT_GPT35 = os.environ[\"DEPLOYMENT_MODEL_GPT35\"]\n",
    "DEPLOYMENT_GPT4 = os.environ[\"DEPLOYMENT_MODEL_GPT4\"]\n",
    "EMBEDDING_MODEL = \"text-embedding-ada-002\"\n",
    "\n",
    "# switch between models here\n",
    "# DEPLOYMENT_NAME = DEPLOYMENT_GPT35 # significantly worse\n",
    "DEPLOYMENT_NAME = DEPLOYMENT_GPT4\n",
    "\n",
    "if DEPLOYMENT_NAME == DEPLOYMENT_GPT35:\n",
    "    MODEL_NAME = \"gpt-3.5-turbo\"\n",
    "elif DEPLOYMENT_NAME == DEPLOYMENT_GPT4:\n",
    "    MODEL_NAME = \"gpt-4\"\n",
    "else:\n",
    "    raise ValueError(f\"Unmapped model {DEPLOYMENT_MODEL}\")"
   ]
  },
  {
   "cell_type": "code",
   "execution_count": 5,
   "id": "b755f0af-0939-4616-ad37-22caa00af1bd",
   "metadata": {},
   "outputs": [],
   "source": [
    "assert os.environ[\"OPENAI_API_TYPE\"] == \"azure\"\n",
    "assert os.environ[\"OPENAI_API_KEY\"]\n",
    "assert os.environ[\"OPENAI_API_VERSION\"]\n",
    "\n",
    "url_pattern = r\"https://.*openai\\.azure\\.com/\"\n",
    "regex = re.compile(url_pattern)\n",
    "assert bool(regex.match(os.environ[\"OPENAI_API_BASE\"]))"
   ]
  },
  {
   "cell_type": "code",
   "execution_count": 6,
   "id": "dc4c48c3-da3b-48f2-a0af-2c94626b17d9",
   "metadata": {
    "tags": []
   },
   "outputs": [],
   "source": [
    "# for chat, there is no need to set to openai's attribute, instead we pass the dict to AzureChatOpenAI\n",
    "AD_CREDENTIALS = {\n",
    "    \"deployment_name\": DEPLOYMENT_NAME,\n",
    "    \"openai_api_type\": os.environ[\"OPENAI_API_TYPE\"],\n",
    "    \"openai_api_key\": os.environ[\"OPENAI_API_KEY\"],\n",
    "    \"openai_api_base\": os.environ[\"OPENAI_API_BASE\"],\n",
    "    \"openai_api_version\": os.environ[\"OPENAI_API_VERSION\"],\n",
    "}"
   ]
  },
  {
   "cell_type": "code",
   "execution_count": 7,
   "id": "19d3b9aa-3373-4f74-9a05-e5587b97df48",
   "metadata": {
    "tags": []
   },
   "outputs": [],
   "source": [
    "# for embeddings, we need to set to openai attributes\n",
    "openai.api_type = os.environ[\"OPENAI_API_TYPE\"]\n",
    "openai.api_key = os.environ[\"OPENAI_API_KEY\"]\n",
    "openai.api_version = os.environ[\"OPENAI_API_VERSION\"]\n",
    "openai.api_base = os.environ[\"OPENAI_API_BASE\"]"
   ]
  },
  {
   "cell_type": "markdown",
   "id": "4c9df66b-82e2-4982-9f1e-8f1fb110ed6e",
   "metadata": {
    "tags": []
   },
   "source": [
    "# Talk to your data"
   ]
  },
  {
   "cell_type": "markdown",
   "id": "927361cd-4d3e-48c4-ac75-5f39e137a163",
   "metadata": {},
   "source": [
    "## Create LLM and Embeddings"
   ]
  },
  {
   "cell_type": "code",
   "execution_count": 8,
   "id": "8a51f96e-8580-42c1-be67-9e42f6bfaf04",
   "metadata": {
    "tags": []
   },
   "outputs": [],
   "source": [
    "llm = AzureChatOpenAI(**AD_CREDENTIALS)"
   ]
  },
  {
   "cell_type": "code",
   "execution_count": 9,
   "id": "ecfda289-a7ce-4418-a269-728486de3b9f",
   "metadata": {
    "tags": []
   },
   "outputs": [],
   "source": [
    "embeddings = OpenAIEmbeddings(model=EMBEDDING_MODEL, chunk_size=1)"
   ]
  },
  {
   "cell_type": "markdown",
   "id": "608378ee-43be-4870-81a2-0780b93c85d6",
   "metadata": {},
   "source": [
    "## Load up text files, chunk them up"
   ]
  },
  {
   "cell_type": "code",
   "execution_count": 10,
   "id": "d107a399-d04f-4c9b-83e8-59130e29d5a9",
   "metadata": {},
   "outputs": [],
   "source": [
    "loader = DirectoryLoader(\"./data/\", glob=\"*.txt\", loader_cls=TextLoader)\n",
    "documents = loader.load()\n",
    "text_splitter = TokenTextSplitter(chunk_size=1000, chunk_overlap=0)\n",
    "docs = text_splitter.split_documents(documents)"
   ]
  },
  {
   "cell_type": "code",
   "execution_count": 11,
   "id": "949f8941-7cd5-48c1-a733-b95a1c62083a",
   "metadata": {
    "tags": []
   },
   "outputs": [
    {
     "data": {
      "text/plain": [
       "5"
      ]
     },
     "execution_count": 11,
     "metadata": {},
     "output_type": "execute_result"
    }
   ],
   "source": [
    "len(docs) # 5x1000=5k, just above the 4k threshold"
   ]
  },
  {
   "cell_type": "markdown",
   "id": "ca77acbc-e8ad-4bf1-88a7-390f4e02bc2d",
   "metadata": {},
   "source": [
    "## Ingest documents into Faiss"
   ]
  },
  {
   "cell_type": "code",
   "execution_count": 12,
   "id": "9f8e471f-b370-40a2-9109-a8dd87067e66",
   "metadata": {
    "tags": []
   },
   "outputs": [
    {
     "name": "stdout",
     "output_type": "stream",
     "text": [
      "Requirement already satisfied: faiss-cpu in /Users/szelee/Projects/LLM/venv/lib/python3.8/site-packages (1.7.4)\n",
      "Note: you may need to restart the kernel to use updated packages.\n"
     ]
    }
   ],
   "source": [
    "%pip install faiss-cpu"
   ]
  },
  {
   "cell_type": "code",
   "execution_count": 13,
   "id": "89d572b1-c1a3-493e-878c-14850408d797",
   "metadata": {
    "tags": []
   },
   "outputs": [
    {
     "name": "stdout",
     "output_type": "stream",
     "text": [
      "CPU times: user 251 ms, sys: 43.2 ms, total: 294 ms\n",
      "Wall time: 7.01 s\n"
     ]
    }
   ],
   "source": [
    "%%time\n",
    "db = FAISS.from_documents(documents=docs, embedding=embeddings)"
   ]
  },
  {
   "cell_type": "markdown",
   "id": "6df28cac-767a-454c-acfc-da39a5dc09e9",
   "metadata": {},
   "source": [
    "## Create document question-answering chat chain"
   ]
  },
  {
   "cell_type": "code",
   "execution_count": 14,
   "id": "022c0965-d7c7-4b99-98ff-2813a72cdc3c",
   "metadata": {
    "tags": []
   },
   "outputs": [],
   "source": [
    "CONDENSE_QUESTION_PROMPT = PromptTemplate.from_template(\n",
    "    \"\"\"Given the following conversation and a follow up question, \\\n",
    "    rephrase the follow up question to be a standalone question.\n",
    "\n",
    "Chat History:\n",
    "{chat_history}\n",
    "Follow Up Input: {question}\n",
    "Standalone question:\"\"\"\n",
    ")\n",
    "\n",
    "qa = ConversationalRetrievalChain.from_llm(\n",
    "    llm=llm,\n",
    "    retriever=db.as_retriever(),\n",
    "    condense_question_prompt=CONDENSE_QUESTION_PROMPT,\n",
    "    return_source_documents=True,\n",
    "    verbose=False,\n",
    ")"
   ]
  },
  {
   "cell_type": "markdown",
   "id": "7c41a3e5-f83e-4986-b015-5faf9a4e6e63",
   "metadata": {},
   "source": [
    "## Ask questions"
   ]
  },
  {
   "cell_type": "code",
   "execution_count": 15,
   "id": "b86188be-b9bd-463a-953e-70a0e056f43e",
   "metadata": {
    "tags": []
   },
   "outputs": [
    {
     "name": "stdout",
     "output_type": "stream",
     "text": [
      "Question: Which film won the best picture?\n",
      "Answer: \"Everything Everywhere All at Once\" won the best picture at the 95th Academy Awards.\n"
     ]
    }
   ],
   "source": [
    "chat_history = []\n",
    "query = \"Which film won the best picture?\"\n",
    "result = qa({\"question\": query, \"chat_history\": chat_history})\n",
    "\n",
    "print(\"Question:\", query)\n",
    "print(\"Answer:\", result[\"answer\"])"
   ]
  },
  {
   "cell_type": "code",
   "execution_count": 16,
   "id": "d6f0bee8-5581-4f0f-9a70-256e4a63d173",
   "metadata": {
    "tags": []
   },
   "outputs": [
    {
     "name": "stdout",
     "output_type": "stream",
     "text": [
      "Question: Who are the main cast members for that movie?\n",
      "Answer: The main cast members for the movie \"Everything Everywhere All at Once\" include Michelle Yeoh, Ke Huy Quan, and Jamie Lee Curtis.\n"
     ]
    }
   ],
   "source": [
    "chat_history = [(query, result[\"answer\"])]\n",
    "query = \"Who are the main cast members for that movie?\"\n",
    "result = qa({\"question\": query, \"chat_history\": chat_history})\n",
    "\n",
    "print(\"Question:\", query)\n",
    "print(\"Answer:\", result[\"answer\"])"
   ]
  },
  {
   "cell_type": "code",
   "execution_count": 17,
   "id": "f1568b35-f4e1-477d-b96b-6b1b880029eb",
   "metadata": {
    "tags": []
   },
   "outputs": [
    {
     "name": "stdout",
     "output_type": "stream",
     "text": [
      "Question: Did Stephanie Hsu win anything?\n",
      "Answer: Based on the provided context, Stephanie Hsu was nominated for Best Supporting Actress for her role in \"Everything Everywhere All at Once\" at the 95th Academy Awards. However, she did not win the award, as Jamie Lee Curtis won in that category for her role in the same film.\n"
     ]
    }
   ],
   "source": [
    "chat_history = [(query, result[\"answer\"])]\n",
    "query = \"Did Stephanie Hsu win anything?\"\n",
    "result = qa({\"question\": query, \"chat_history\": chat_history})\n",
    "\n",
    "print(\"Question:\", query)\n",
    "print(\"Answer:\", result[\"answer\"])"
   ]
  },
  {
   "cell_type": "code",
   "execution_count": 18,
   "id": "4531e6fe-2292-434c-a87c-666598ae590e",
   "metadata": {
    "tags": []
   },
   "outputs": [
    {
     "name": "stdout",
     "output_type": "stream",
     "text": [
      "Question: What's the significance of the best actress award this time?\n",
      "Answer: At the 95th Academy Awards, Jamie Lee Curtis won the Best Supporting Actress award for her role as an IRS inspector in \"Everything Everywhere All at Once.\" The significance of this award lies in Curtis's long career as a veteran headliner in genre movies, particularly horror films like \"Halloween.\" In her acceptance speech, she dedicated her statue to all the people who had supported her throughout her career in genre films. Additionally, she acknowledged her family history in entertainment, as both her parents, Janet Leigh and Tony Curtis, were also Oscar-nominated actors.\n"
     ]
    }
   ],
   "source": [
    "chat_history = [(query, result[\"answer\"])]\n",
    "query = \"What's the significance of the best actress award this time?\"\n",
    "result = qa({\"question\": query, \"chat_history\": chat_history})\n",
    "\n",
    "print(\"Question:\", query)\n",
    "print(\"Answer:\", result[\"answer\"])"
   ]
  },
  {
   "cell_type": "code",
   "execution_count": 19,
   "id": "ebee1738-4c15-46c1-88a6-40ccda9ccc01",
   "metadata": {
    "tags": []
   },
   "outputs": [
    {
     "name": "stdout",
     "output_type": "stream",
     "text": [
      "Question: Sorry I am referring to Michell Yeoh.\n",
      "Answer: The significance of the Best Actress award for Michelle Yeoh this time is that she became the first Asian woman to be recognized as Best Actress at the Oscars. This honor came after a long career in martial arts and action movies like \"Crouching Tiger Hidden Dragon\" and \"Yes, Madam.\" Her win serves as a beacon of hope and possibilities for little boys and girls who look like her, showing that they too can achieve success in the entertainment industry.\n"
     ]
    }
   ],
   "source": [
    "chat_history = [(query, result[\"answer\"])]\n",
    "query = \"Sorry I am referring to Michell Yeoh.\"\n",
    "result = qa({\"question\": query, \"chat_history\": chat_history})\n",
    "\n",
    "print(\"Question:\", query)\n",
    "print(\"Answer:\", result[\"answer\"])"
   ]
  },
  {
   "cell_type": "code",
   "execution_count": 20,
   "id": "f5337f78-c0a5-418a-8499-7e9693d7a9a1",
   "metadata": {
    "tags": []
   },
   "outputs": [
    {
     "name": "stdout",
     "output_type": "stream",
     "text": [
      "Question: The best actor came from which film? Who are the other nominees of the same movie?\n",
      "Answer: Brendan Fraser won Best Actor for his performance in \"The Whale.\" Hong Chau was also nominated from the same movie in the Best Supporting Actress category.\n"
     ]
    }
   ],
   "source": [
    "chat_history = [(query, result[\"answer\"])]\n",
    "query = \"The best actor came from which film? Who are the other nominees of the same movie?\"\n",
    "result = qa({\"question\": query, \"chat_history\": chat_history})\n",
    "\n",
    "print(\"Question:\", query)\n",
    "print(\"Answer:\", result[\"answer\"])"
   ]
  },
  {
   "cell_type": "code",
   "execution_count": 21,
   "id": "836a43b2-48e0-4ac1-a12b-f8d78fba7eac",
   "metadata": {
    "tags": []
   },
   "outputs": [
    {
     "name": "stdout",
     "output_type": "stream",
     "text": [
      "Question: Did RRR win anything?\n",
      "Answer: Yes, the movie \"RRR\" won an award for Best Original Song at the 95th Academy Awards. The song \"Naatu Naatu\" from \"RRR\" won the award, with music by M.M. Keeravaani and lyrics by Chandrabose.\n"
     ]
    }
   ],
   "source": [
    "chat_history = [(query, result[\"answer\"])]\n",
    "query = \"Did RRR win anything?\"\n",
    "result = qa({\"question\": query, \"chat_history\": chat_history})\n",
    "\n",
    "print(\"Question:\", query)\n",
    "print(\"Answer:\", result[\"answer\"])"
   ]
  },
  {
   "cell_type": "code",
   "execution_count": 22,
   "id": "38273888-43b3-41dc-a03c-b0c65c0a0765",
   "metadata": {
    "tags": []
   },
   "outputs": [
    {
     "name": "stdout",
     "output_type": "stream",
     "text": [
      "Question: Who else was nominated in the same category?\n",
      "Answer: The other nominees in the Best Original Song category at the 95th Academy Awards were:\n",
      "\n",
      "1. \"Naatu Naatu\" from \"RRR\" — music by M.M. Keeravaani, lyric by Chandrabose\n",
      "2. \"Applause\" from \"Tell It Like a Woman\" — music and lyric by Diane Warren\n",
      "3. \"Hold My Hand\" from \"Top Gun: Maverick\" — music and lyric by Lady Gaga and BloodPop\n",
      "4. \"Lift Me Up\" from \"Black Panther: Wakanda Forever\" — music by Tems, Rihanna, Ryan Coogler, and Ludwig Goransson; lyric by Tems and Ryan Coogler\n"
     ]
    }
   ],
   "source": [
    "chat_history = [(query, result[\"answer\"])]\n",
    "query = \"Who else was nominated in the same category?\"\n",
    "result = qa({\"question\": query, \"chat_history\": chat_history})\n",
    "\n",
    "print(\"Question:\", query)\n",
    "print(\"Answer:\", result[\"answer\"])"
   ]
  },
  {
   "cell_type": "code",
   "execution_count": 23,
   "id": "e08d56d1-bbeb-4e99-8df1-d37015325cdb",
   "metadata": {
    "tags": []
   },
   "outputs": [
    {
     "name": "stdout",
     "output_type": "stream",
     "text": [
      "Question: What was the color theme of the award ceremony?\n",
      "Answer: The 95th Academy Awards featured a notable cosmetic change by replacing the usual red carpet with a champagne-colored carpet.\n"
     ]
    }
   ],
   "source": [
    "chat_history = [(query, result[\"answer\"])]\n",
    "query = \"What was the color theme of the award ceremony?\"\n",
    "result = qa({\"question\": query, \"chat_history\": chat_history})\n",
    "\n",
    "print(\"Question:\", query)\n",
    "print(\"Answer:\", result[\"answer\"])"
   ]
  },
  {
   "cell_type": "code",
   "execution_count": 24,
   "id": "554a1ba9-91a4-49a5-b034-05103322f69d",
   "metadata": {
    "tags": []
   },
   "outputs": [
    {
     "name": "stdout",
     "output_type": "stream",
     "text": [
      "Question: What is the source url of the context article?\n",
      "Answer: The source URL of the context article about the color theme of the 95th Academy Awards ceremony is: https://variety.com/2023/awards/awards/oscar-winners-2023-list-1235548935/\n"
     ]
    }
   ],
   "source": [
    "chat_history = [(query, result[\"answer\"])]\n",
    "query = \"What is the source url of the context article?\"\n",
    "result = qa({\"question\": query, \"chat_history\": chat_history})\n",
    "\n",
    "print(\"Question:\", query)\n",
    "print(\"Answer:\", result[\"answer\"])"
   ]
  },
  {
   "cell_type": "code",
   "execution_count": null,
   "id": "afd16250-5d2a-4cc5-9e8b-59b80a9c6bf8",
   "metadata": {},
   "outputs": [],
   "source": []
  }
 ],
 "metadata": {
  "kernelspec": {
   "display_name": "Python 3 (ipykernel)",
   "language": "python",
   "name": "python3"
  },
  "language_info": {
   "codemirror_mode": {
    "name": "ipython",
    "version": 3
   },
   "file_extension": ".py",
   "mimetype": "text/x-python",
   "name": "python",
   "nbconvert_exporter": "python",
   "pygments_lexer": "ipython3",
   "version": "3.8.16"
  }
 },
 "nbformat": 4,
 "nbformat_minor": 5
}
